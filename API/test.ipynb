{
 "cells": [
  {
   "cell_type": "markdown",
   "metadata": {},
   "source": [
    "## Detalles API\n",
    "\n",
    "https://www.ree.es/es/datos/apidatos"
   ]
  },
  {
   "cell_type": "code",
   "execution_count": 2,
   "metadata": {},
   "outputs": [
    {
     "name": "stdout",
     "output_type": "stream",
     "text": [
      "Requesting URL: https://apidatos.ree.es/en/datos/demanda/evolucion\n",
      "\n",
      "With parameters:\n",
      "self: <api.ree_api object at 0x1084d1e80>\n",
      "start_date: 2019-01-01T00:00\n",
      "end_date: 2019-12-01T00:00\n",
      "time_trunc: day\n",
      "geo_ids: 8742\n",
      "geo_limit: None\n",
      "geo_trunc: None\n"
     ]
    },
    {
     "name": "stderr",
     "output_type": "stream",
     "text": [
      "/Users/nkhvatkin/Documents/FormacionInicial/Code/Projects/Innovatom2025Code/API/api.py:70: FutureWarning: In a future version of pandas, parsing datetimes with mixed time zones will raise an error unless `utc=True`. Please specify `utc=True` to opt in to the new behaviour and silence this warning. To create a `Series` with mixed offsets and `object` dtype, please use `apply` and `datetime.datetime.strptime`\n",
      "  df.index = pd.to_datetime(df.index)\n"
     ]
    },
    {
     "data": {
      "text/html": [
       "<div>\n",
       "<style scoped>\n",
       "    .dataframe tbody tr th:only-of-type {\n",
       "        vertical-align: middle;\n",
       "    }\n",
       "\n",
       "    .dataframe tbody tr th {\n",
       "        vertical-align: top;\n",
       "    }\n",
       "\n",
       "    .dataframe thead th {\n",
       "        text-align: right;\n",
       "    }\n",
       "</style>\n",
       "<table border=\"1\" class=\"dataframe\">\n",
       "  <thead>\n",
       "    <tr style=\"text-align: right;\">\n",
       "      <th></th>\n",
       "      <th>Demand</th>\n",
       "    </tr>\n",
       "    <tr>\n",
       "      <th>datetime</th>\n",
       "      <th></th>\n",
       "    </tr>\n",
       "  </thead>\n",
       "  <tbody>\n",
       "    <tr>\n",
       "      <th>2019-01-01 00:00:00+01:00</th>\n",
       "      <td>21757.476</td>\n",
       "    </tr>\n",
       "    <tr>\n",
       "      <th>2019-01-02 00:00:00+01:00</th>\n",
       "      <td>24668.202</td>\n",
       "    </tr>\n",
       "    <tr>\n",
       "      <th>2019-01-03 00:00:00+01:00</th>\n",
       "      <td>24991.244</td>\n",
       "    </tr>\n",
       "    <tr>\n",
       "      <th>2019-01-04 00:00:00+01:00</th>\n",
       "      <td>25180.339</td>\n",
       "    </tr>\n",
       "    <tr>\n",
       "      <th>2019-01-05 00:00:00+01:00</th>\n",
       "      <td>23951.403</td>\n",
       "    </tr>\n",
       "    <tr>\n",
       "      <th>...</th>\n",
       "      <td>...</td>\n",
       "    </tr>\n",
       "    <tr>\n",
       "      <th>2019-12-27 00:00:00+01:00</th>\n",
       "      <td>24930.199</td>\n",
       "    </tr>\n",
       "    <tr>\n",
       "      <th>2019-12-28 00:00:00+01:00</th>\n",
       "      <td>24020.923</td>\n",
       "    </tr>\n",
       "    <tr>\n",
       "      <th>2019-12-29 00:00:00+01:00</th>\n",
       "      <td>23074.565</td>\n",
       "    </tr>\n",
       "    <tr>\n",
       "      <th>2019-12-30 00:00:00+01:00</th>\n",
       "      <td>24879.108</td>\n",
       "    </tr>\n",
       "    <tr>\n",
       "      <th>2019-12-31 00:00:00+01:00</th>\n",
       "      <td>24948.787</td>\n",
       "    </tr>\n",
       "  </tbody>\n",
       "</table>\n",
       "<p>365 rows × 1 columns</p>\n",
       "</div>"
      ],
      "text/plain": [
       "                              Demand\n",
       "datetime                            \n",
       "2019-01-01 00:00:00+01:00  21757.476\n",
       "2019-01-02 00:00:00+01:00  24668.202\n",
       "2019-01-03 00:00:00+01:00  24991.244\n",
       "2019-01-04 00:00:00+01:00  25180.339\n",
       "2019-01-05 00:00:00+01:00  23951.403\n",
       "...                              ...\n",
       "2019-12-27 00:00:00+01:00  24930.199\n",
       "2019-12-28 00:00:00+01:00  24020.923\n",
       "2019-12-29 00:00:00+01:00  23074.565\n",
       "2019-12-30 00:00:00+01:00  24879.108\n",
       "2019-12-31 00:00:00+01:00  24948.787\n",
       "\n",
       "[365 rows x 1 columns]"
      ]
     },
     "execution_count": 2,
     "metadata": {},
     "output_type": "execute_result"
    }
   ],
   "source": [
    "from api import ree_api\n",
    "from utils import lim2id\n",
    "\n",
    "category = 'demanda' \n",
    "widget = 'evolucion' \n",
    "\n",
    "\n",
    "start_date = '2019-01-01T00:00' #yyyy-mm-dd\n",
    "end_date = '2019-12-01T00:00'\n",
    "time_trunc = 'day'\n",
    "geo_id = lim2id('canarias')\n",
    "\n",
    "ree_stream = ree_api(category, widget)\n",
    "df_canarias = ree_stream.query_ree_api(start_date, end_date, time_trunc, geo_id)\n",
    "\n",
    "df_canarias"
   ]
  }
 ],
 "metadata": {
  "kernelspec": {
   "display_name": "Python 3",
   "language": "python",
   "name": "python3"
  },
  "language_info": {
   "codemirror_mode": {
    "name": "ipython",
    "version": 3
   },
   "file_extension": ".py",
   "mimetype": "text/x-python",
   "name": "python",
   "nbconvert_exporter": "python",
   "pygments_lexer": "ipython3",
   "version": "3.12.6"
  }
 },
 "nbformat": 4,
 "nbformat_minor": 2
}
